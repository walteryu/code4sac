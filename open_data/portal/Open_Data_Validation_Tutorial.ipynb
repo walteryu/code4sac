{
 "cells": [
  {
   "cell_type": "markdown",
   "metadata": {},
   "source": [
    "# CA Open Data Validation Tutorial\n",
    "\n",
    "### September 2019\n",
    "\n",
    "## Instructions\n",
    "\n",
    "1. Install [Jupyter](https://jupyter.org/install) from the command line or with the [Anaconda](https://www.anaconda.com/distribution/) application\n",
    "2. Verify that Jupyter Notebook was installed; it should start by running `jupyter notebook` from the command line or be visible from Windows Start menu\n",
    "3. Start Jupyter Notebook; save this notebook and CSV data to your \"Documents\" folder and navigate to it from the Notebook start page\n",
    "4. Open this notebook from the start page; file and cells should be viewable\n",
    "\n",
    "## Introduction\n",
    "\n",
    "This tutorial demonstrates basic Notebook functionality, Python code required to run examples and features for analysis and visualization. It will require some basic understanding of the Python programming language, Jupyter platform and data analysis; however, we will work through these steps in each section so not to worry! After this tutorial, you should have a basic understanding of Notebook, Python and how to get started with your own notebook.\n",
    "\n",
    "This tutorial focuses on Exploratory Data Analysis (EDA) of annual traffic delay data from the [CA Open Data Portal](https://data.ca.gov/). Description and details about the dataset are available [here](https://data.ca.gov/dataset/caltrans-annual-vehicle-delay).\n",
    "\n",
    "Citation: This notebook is based on this Medium article [tutorial](https://medium.com/python-pandemonium/introduction-to-exploratory-data-analysis-in-python-8b6bcb55c190) and [Github Repo](https://github.com/kadnan/EDA_Python/).\n",
    "\n",
    "## Notebooks for Collaboration\n",
    "\n",
    "Notebook is a powerful collaborative tool which is open-source and light-weight. It provides all the tools necessary to run data analysis, visualization, statistics and data science [out of the box](https://jupyter.org/jupyter-book/01/what-is-data-science.html). In addition, it's gained acceptance from industry and academia for collaborating on projects and publishing work.\n",
    "\n",
    "Notebook is a combination of text and code with the programming run-time built into the platform so there is no need to install additional software. The text is in the markdown file format (similar to HTML), and code supports several languages. It is organized by cells which can consist of either text or code; placed together, they can be sent as a single document to share/publish work.\n",
    "\n",
    "## The Python Programming Language\n",
    "\n",
    "This tutorial will cover some basic programming, so we will focus on learning the Python programming language for this notebook since it is widely used in industry and has even gained enough traction to be taught in [high school](https://codehs.com/info/curriculum/intropython) and AP Computer Science [courses](https://code.org/educate/curriculum/high-school).\n",
    "\n",
    "[Notebook](https://jupyter.org/) supports several different languages (R, Scala and Julia); however, Python is the most popular of them and can be used for other tasks, primarily data science and web programming.\n",
    "\n",
    "## Exercises\n",
    "\n",
    "If you are new to Jupyter Notebook, then please review the links below:\n",
    "\n",
    "1. [Intro Guide - DataQuest](https://www.dataquest.io/blog/jupyter-notebook-tutorial/)\n",
    "2. [Intro Guide - DataCamp](https://www.datacamp.com/community/tutorials/tutorial-jupyter-notebook)\n",
    "3. [Notebook Intro - Medium](https://towardsdatascience.com/a-beginners-tutorial-to-jupyter-notebooks-1b2f8705888a)\n",
    "4. [Data Science Tutorial](https://jupyter.org/jupyter-book/01/what-is-data-science.html)\n",
    "\n",
    "If you are new to programming or Python, then please review the links below:\n",
    "\n",
    "1. [Quick Start](https://www.python.org/about/gettingstarted/)\n",
    "2. [Intro Tutorials](https://realpython.com/learning-paths/python3-introduction/)\n",
    "3. [Free Code Camp Guide](https://guide.freecodecamp.org/python/)\n",
    "\n",
    "If you are new to programming or Markdown, then please review the links below:\n",
    "\n",
    "1. [Quick Start - Github](https://guides.github.com/features/mastering-markdown/)\n",
    "2. [Quick Start Guide](https://www.markdownguide.org/getting-started/)\n",
    "3. [Quick Start Tutorial](https://www.markdowntutorial.com/)\n"
   ]
  },
  {
   "cell_type": "markdown",
   "metadata": {},
   "source": [
    "## Section 1 - Notebook, Python and Modules\n",
    "\n",
    "## Open-Source Software (OSS)\n",
    "\n",
    "Notebook and Python are [open-source software](https://en.wikipedia.org/wiki/Open-source_software) tools, meaning that they are developed and maintained by an open community of contributors instead of closed-source software which is closed to outside development (e.g. Oracle, Apple, Adobe, etc.).\n",
    "\n",
    "Although opinions abound about which is better, it seems intuitive that a software project would be more robust having more pairs of eyes on it (community) instead of one focused team of developers (closed-source). Many large tech companies such as Google, Amazon and Microsoft recognize this trend so have adopted a [hybrid approach](https://www.wired.com/story/wired-guide-open-source-software/) of basing their products on open-source software.\n",
    "\n",
    "That said, Notebook and Python are open for public code contributions (with approval by core development team) and have an entire ecosystem of open-source libraries available for use within this notebook via Python modules.\n",
    "\n",
    "## Exercises\n",
    "\n",
    "If you are new to Python modules, then please review the links below:\n",
    "\n",
    "* [Intro to Modules](https://realpython.com/python-modules-packages/)\n",
    "* [Modules vs. Packages](https://realpython.com/python-modules-packages/)\n",
    "\n",
    "Please run code cell below with the \"run\" button located in the top menu.\n",
    "\n",
    "*Note: If you run into errors, you may need to install a missing module; e.g. [Seaborn](https://seaborn.pydata.org/installing.html) is not included in Anaconda by default.*"
   ]
  },
  {
   "cell_type": "code",
   "execution_count": 1,
   "metadata": {},
   "outputs": [],
   "source": [
    "# 01 - load Python modules into notebook for later use\n",
    "\n",
    "# Pandas modules for working with DataFrames\n",
    "import pandas as pd\n",
    "\n",
    "# Numpy module for scientific computing (math functions, and Pandas is built on Numpy)\n",
    "import numpy as np\n",
    "\n",
    "# Modules for statistical models\n",
    "import scipy\n",
    "from scipy import stats\n",
    "import statsmodels.api as sm\n",
    "\n",
    "# Modules for data visualization\n",
    "import matplotlib.pyplot as plt\n",
    "\n",
    "# Adjust plot settings to output correctly\n",
    "%matplotlib inline\n",
    "\n",
    "# Seaborn module for plots; built on Matplotlib package:\n",
    "# https://seaborn.pydata.org/\n",
    "import seaborn as sns; sns.set(color_codes=True)\n",
    "\n",
    "# Set numeric output; turn off scientific notation\n",
    "pd.set_option('display.float_format', lambda x: '%.2f' % x)\n",
    "\n",
    "# Suppress warning \n",
    "import warnings\n",
    "warnings.filterwarnings('ignore')\n"
   ]
  },
  {
   "cell_type": "markdown",
   "metadata": {},
   "source": [
    "## Section 2 - Data Validation\n",
    "\n",
    "## Python DataFrames\n",
    "\n",
    "Rather than manually editing and saving spreadsheets, what if there were a tool that could save all those steps, allow for collaboration and make it easy to share/publish your work? Yes, a database could do such a task but how about one which can combine text, publish in multiple formats (pdf, latex, html) and perform data science in a human-readable programming language such as Python? (Sorry, SQL!)\n",
    "\n",
    "Well, this notebook is that tool and Python DataFrames (via the Pandas module) are the way by which to transform data without having to worry about whether your application (i.e. Excel) will crash and corrupt your source file when working with large datasets.\n",
    "\n",
    "The links below will provide additional info but in general, data tables are loaded into the notebook and stored as DataFrames and assigned as variables which are like sheets within an Excel file. DataFrames can then be joined, manipulated and transformed programmatically. Rather than linking across a spreadsheet which can become complex and unsustainable over time, DataFrames can be managed and cleaned with organized code (e.g. cells within this notebook).\n",
    "\n",
    "## Exercises\n",
    "\n",
    "If you are new to DataFrames, then please review the links below:\n",
    "\n",
    "* [Intro to DataFrames](https://databricks.com/glossary/what-are-dataframes)\n",
    "* [DataFrames - DataCamp](https://www.datacamp.com/community/tutorials/pandas-tutorial-dataframe-python)\n",
    "* [Data Science Notes](https://chrisalbon.com/)\n",
    "\n",
    "Please run code cells below with the \"run\" button located in the top menu. Cells will show the following:\n",
    "\n",
    "* Read in data into a DataFrame\n",
    "* Convert data type within a DataFrame column\n",
    "* Print first 5 rows of DataFrame\n",
    "* Describe the dataset with summary statistics"
   ]
  },
  {
   "cell_type": "code",
   "execution_count": 2,
   "metadata": {
    "scrolled": true
   },
   "outputs": [
    {
     "name": "stdout",
     "output_type": "stream",
     "text": [
      "*** Dataset Profile ***\n",
      "\n",
      "Column Data Types:\n",
      "Route                         object\n",
      "County                        object\n",
      "VHD_Rank                       int64\n",
      "Annual_VHD_at_35mph          float64\n",
      "Annual_VMT                     int64\n",
      "Incident_Count               float64\n",
      "Incidents_Per_Day            float64\n",
      "Incidents_Per_Million_VMT    float64\n",
      "dtype: object\n",
      "\n",
      "Dataset Dimensions:\n",
      "(180, 8)\n",
      "\n",
      "Unique Values - Route:\n",
      "['405' '101' '5' '10' '80' '110' '210' '880' '605' '60' '580' '805' '105'\n",
      " '15' '280' '85' '55' '134' '91' '710' '680' '24' '170' '215' '4' '57'\n",
      " '84' '237' '92' '78' '51' '14' '8' '1' '125' '238' '205' '17' '99' '50'\n",
      " '37' '118' '22' '163' '52' '87' '73' '2' '94' '242' '12' '56' '71' '65'\n",
      " '241' '70' '23' '152' '41' '46' '156' '160' '180' '132' '905' '980' '25'\n",
      " '76' '120' '47' '133' '113' '168S' '58' '54' '219' '67' '108' '90' '180S'\n",
      " '261' '29' '580W' '198' '780' '126' '41S' '39' '178' '267' '259N' '74'\n",
      " '49' '275' '13' '880S' '168' '88' '104' '142']\n",
      "\n",
      "Unique Values - County:\n",
      "['LA' 'ALA' 'SD' 'SCL' 'ORA' 'SON' 'SM' 'RIV' 'CC' 'VEN' 'SBD' 'SF' 'SAC'\n",
      " 'SOL' 'SCR' 'MRN' 'SJ' 'YOL' 'FRE' 'SB' 'MON' 'PLA' 'KER' 'YUB' 'SLO'\n",
      " 'STA' 'MAD' 'TUL' 'NAP' 'SBT' 'NEV' 'ED' 'TUO' 'BUT' 'MER' 'SUT' 'MAR'\n",
      " 'AMA']\n",
      "\n",
      "First 5 Rows of Dataset:\n",
      "\n",
      "  Route County  VHD_Rank  Annual_VHD_at_35mph  Annual_VMT  Incident_Count  \\\n",
      "0   405     LA       113          13751766.00  4682455433        20648.00   \n",
      "1   101     LA       105           7514648.00  3115701533         9168.00   \n",
      "2     5     LA        96           7293727.00  4444777395        22495.00   \n",
      "3    10     LA        97           5299844.00  3665141536        20580.00   \n",
      "4    80    ALA        23           4833705.00   650212690         3783.00   \n",
      "\n",
      "   Incidents_Per_Day  Incidents_Per_Million_VMT  \n",
      "0              56.57                       4.41  \n",
      "1              25.12                       2.94  \n",
      "2              61.63                       5.06  \n",
      "3              56.38                       5.62  \n",
      "4              10.36                       5.82  \n"
     ]
    }
   ],
   "source": [
    "# 02A - Load data into notebook\n",
    "\n",
    "# load data into notebook; make sure file is in folder as notebook\n",
    "df = pd.read_csv('caltrans-annual-vehicle-delay-2017-v2.csv')\n",
    "\n",
    "print('*** Dataset Profile ***')\n",
    "print('')\n",
    "\n",
    "print('Column Data Types:')\n",
    "print(df.dtypes)\n",
    "print('')\n",
    "\n",
    "print('Dataset Dimensions:')\n",
    "print(df.shape)\n",
    "print('')\n",
    "\n",
    "print('Unique Values - Route:')\n",
    "print(df['Route'].unique())\n",
    "print('')\n",
    "\n",
    "print('Unique Values - County:')\n",
    "print(df['County'].unique())\n",
    "print('')\n",
    "\n",
    "# Print out first 5 lines of dataset below\n",
    "print('First 5 Rows of Dataset:')\n",
    "print('')\n",
    "print(df.head(5))\n",
    "\n",
    "# drop null values\n",
    "# df = df.dropna()\n"
   ]
  },
  {
   "cell_type": "code",
   "execution_count": 3,
   "metadata": {},
   "outputs": [
    {
     "name": "stdout",
     "output_type": "stream",
     "text": [
      "Column Dimensions - Including Outliers:\n",
      "(180, 8)\n",
      "\n",
      "Column Dimensions - Excluding Outliers:\n",
      "(176, 8)\n"
     ]
    }
   ],
   "source": [
    "# 02B - Show dataframe shape and remove outliers for graph scale\n",
    "\n",
    "print('Column Dimensions - Including Outliers:')\n",
    "print(df.shape)\n",
    "print('')\n",
    "\n",
    "# Remove outlier values, i.e. outside 3 standard deviations\n",
    "    # here we use a series of logicals (True True False etc.) to retain a subset of the data\n",
    "VMT_is_within_3_standard_deviations = np.abs(df['Annual_VMT'] - df['Annual_VMT'].mean()) <= (3*df['Annual_VMT'].std())\n",
    "df = df[VMT_is_within_3_standard_deviations]\n",
    "\n",
    "print('Column Dimensions - Excluding Outliers:')\n",
    "print(df.shape)"
   ]
  },
  {
   "cell_type": "code",
   "execution_count": 4,
   "metadata": {},
   "outputs": [
    {
     "name": "stdout",
     "output_type": "stream",
     "text": [
      "Summary Statistics - Annual VMT Column:\n"
     ]
    },
    {
     "data": {
      "text/plain": [
       "count          176.00\n",
       "mean     740084550.15\n",
       "std      893565861.99\n",
       "min         517585.00\n",
       "25%       95604579.25\n",
       "50%      410350927.00\n",
       "75%     1053796624.00\n",
       "max     4313682262.00\n",
       "Name: Annual_VMT, dtype: float64"
      ]
     },
     "execution_count": 4,
     "metadata": {},
     "output_type": "execute_result"
    }
   ],
   "source": [
    "# 02C - Summary statistics\n",
    "\n",
    "# Output summary statistics for dataframe\n",
    "print('Summary Statistics - Annual VMT Column:')\n",
    "df['Annual_VMT'].describe()\n",
    "\n",
    "# Note you can also get summary statistics for the entire dataframe, e.g.\n",
    "# df.describe(include='all') # note the `include='all'` argument will include non-numeric columns (e.g. # unique)"
   ]
  },
  {
   "cell_type": "markdown",
   "metadata": {},
   "source": [
    "## Data Validation Rules\n",
    "\n",
    "Code below runs validation rules and outputs results to CSV files as listed below. Each rule generates a separate CSV file with the specified rule, and project ID's are included for data cleaning.\n"
   ]
  },
  {
   "cell_type": "code",
   "execution_count": 5,
   "metadata": {},
   "outputs": [],
   "source": [
    "# 02D - Data Validation\n",
    "\n",
    "# Rule 01: Identify all rows with invalid county\n",
    "valid_county = ['LA' 'ALA' 'SD' 'SCL' 'ORA' 'SON' 'SM' 'RIV' 'CC' 'VEN' 'SBD' 'SF' 'SAC'\n",
    " 'SOL' 'SCR' 'MRN' 'YOL' 'FRE' 'SB' 'MON' 'SJ' 'PLA' 'KER' 'YUB' 'SLO'\n",
    " 'STA' 'MAD' 'TUL' 'NAP' 'SBT' 'NEV' 'ED' 'TUO' 'BUT' 'MER' 'SUT' 'MAR']\n",
    "df_county = df.loc[~df['County'].isin(valid_county)]\n",
    "\n",
    "# Write results to output CSV file\n",
    "df_county.to_csv('results/01_county_2017.csv')\n",
    "\n",
    "# Rule 02: Identify all rows with annual VMT > 20M\n",
    "df_annual_vmt = df.loc[df['Annual_VMT'] > 20000000]\n",
    "\n",
    "# Write results to output CSV file\n",
    "df_annual_vmt.to_csv('results/02_annual_vmt_2017.csv')\n",
    "\n",
    "# Rule 03: Identify all rows with invalid vhd rank\n",
    "df_vhd_rank = df.loc[df['VHD_Rank'] > 200]\n",
    "\n",
    "# Write results to output CSV file\n",
    "df_vhd_rank.to_csv('results/03_vhd_rank_2017.csv')\n",
    "\n",
    "# Rule 04: Identify all rows with incident count > 200k\n",
    "df_incident_count = df.loc[df['Incident_Count'] > 200000]\n",
    "\n",
    "# Write results to output CSV file\n",
    "df_incident_count.to_csv('results/04_incident_count_2017.csv')\n",
    "\n",
    "# Rule 05: Identify all rows with incidents per day > 100\n",
    "df_incidents_daily = df.loc[df['Incidents_Per_Day'] > 100]\n",
    "\n",
    "# Write results to output CSV file\n",
    "df_incidents_daily.to_csv('results/05_incidents_daily_2017.csv')\n",
    "\n",
    "# Rule 06: Identify all rows with incidents per day < 0\n",
    "df_incidents_daily_0 = df.loc[df['Incidents_Per_Day'] < 0]\n",
    "\n",
    "# Write results to output CSV file\n",
    "df_incidents_daily_0.to_csv('results/06_incidents_daily_2017.csv')\n",
    "\n",
    "# Rule 07: Identify null values\n",
    "\n",
    "# Identify all rows which contain any null values\n",
    "df.isnull().any(axis=1)\n",
    "df_null = df[df.isnull().any(axis=1)]\n",
    "\n",
    "# Write results to output CSV file\n",
    "df_null.to_csv('results/07_null_values_fy1819.csv')\n",
    "\n",
    "# Rule 08: Detect non-conforming character from row values\n",
    "df_route_name = df['Route'].str.contains('^\\x0A\\x0D\\x20-\\x7E')\n",
    "\n",
    "# Write results to output CSV file\n",
    "df['Route'].to_csv('results/08a_route_2017.csv')\n",
    "df_route_name.to_csv('results/08b_route_name_2017.csv')\n",
    "\n",
    "# Rule 09: Identify all duplicate rows\n",
    "df_duplicates = df[df.duplicated()]\n",
    "df_duplicates.to_csv('results/09_duplicate_rows_fy1819.csv')\n"
   ]
  },
  {
   "cell_type": "markdown",
   "metadata": {},
   "source": [
    "## Section 3 - Data Visualization\n",
    "\n",
    "## Matplotlib is the New Chart Function\n",
    "\n",
    "Rather than manually creating and updating charts in Excel, Python (its Matplotlib module) can plot data programmatically so that plots can easily be recreated and manipulated when the data changes. In addition, plot types are not bound by those available on Excel but updated over time from the open-source community. Plots can easily handle large datasets (e.g. > 100k rows) with many more plotting options than in Excel.\n",
    "\n",
    "The links below will provide additional info but in general, plots are created programmatically by specifying the plot type, dataset and options (if any). Plots are output within the notebook and can also be exported as a separate file (e.g. png or pdf).\n",
    "\n",
    "## Exercises\n",
    "\n",
    "If you are new to Matplotlib, then please review the links below:\n",
    "\n",
    "* [Official Tutorials](https://matplotlib.org/3.1.1/tutorials/index.html)\n",
    "* [Medium Article](https://towardsdatascience.com/matplotlib-tutorial-learn-basics-of-pythons-powerful-plotting-library-b5d1b8f67596)\n",
    "* [Quick Start Guide](https://realpython.com/python-matplotlib-guide/)\n",
    "\n",
    "Please run code cells below with the \"run\" button located in the top menu. Cells will show the following:\n",
    "\n",
    "* How to create a histogram plot\n",
    "* How to sort a DataFrame\n",
    "* How to create a box plot"
   ]
  },
  {
   "cell_type": "code",
   "execution_count": 6,
   "metadata": {},
   "outputs": [
    {
     "data": {
      "text/plain": [
       "<matplotlib.axes._subplots.AxesSubplot at 0x1583f81af28>"
      ]
     },
     "execution_count": 6,
     "metadata": {},
     "output_type": "execute_result"
    },
    {
     "data": {
      "image/png": "[encoded data removed]",
      "text/plain": [
       "<Figure size 1152x576 with 1 Axes>"
      ]
     },
     "metadata": {},
     "output_type": "display_data"
    }
   ],
   "source": [
    "# 03A - Histogram plot\n",
    "\n",
    "# Set plot size and title\n",
    "plt.figure(figsize=(16, 8))\n",
    "plt.title('Histogram Plot - Annual VMT')\n",
    "\n",
    "# Create historgram for Annual Vehicle Miles Traveled\n",
    "sns.distplot(df['Annual_VMT'], kde=False) # `kde=False` turns off the default density estimate plot, try setting it to True !"
   ]
  },
  {
   "cell_type": "code",
   "execution_count": 7,
   "metadata": {},
   "outputs": [
    {
     "data": {
      "image/png": "[encoded data removed]",
      "text/plain": [
       "<Figure size 1152x864 with 1 Axes>"
      ]
     },
     "metadata": {},
     "output_type": "display_data"
    }
   ],
   "source": [
    "# 03B - Create box plots for routes' Annual Vehicle Miles Traveled, by county\n",
    "# Set plot size and title\n",
    "plt.figure(figsize=(16, 12))\n",
    "plt.title('Box Plot - Annual VMT by County')\n",
    "\n",
    "# Create chart\n",
    "ax = sns.boxplot(x=\"County\", y=\"Annual_VMT\", data=df)"
   ]
  },
  {
   "cell_type": "markdown",
   "metadata": {},
   "source": [
    "## Section 4 - Statistics and Prediction\n",
    "\n",
    "## Data Science 101\n",
    "\n",
    "Once we have explored our dataset, examined summary statistics and visualized the dataset, we can analyze the data using statistical functions from the [scipy module](https://www.scipy.org/) and make predictions with the [scikit-learn module](https://scikit-learn.org/stable/). These techniques and models are part of data science, which is a [broad and developing field](https://datascience.berkeley.edu/about/what-is-data-science/) consisting of various steps in managing, storing, analyzing and communicating data.\n",
    "\n",
    "Statistical and prediction models are typically used to analyze data. For example, in this notebook we fit a linear regression model to analyze the relationship between route incidents and vehicle delay.\n",
    "\n",
    "The prediction model example in this section is based on this Medium article [tutorial](https://towardsdatascience.com/a-beginners-guide-to-linear-regression-in-python-with-scikit-learn-83a8f7ae2b4f)\n",
    "\n",
    "## Exercises\n",
    "\n",
    "If you are new to data science, then please review the links below:\n",
    "\n",
    "1. [Data Science - UC Berkeley](https://datascience.berkeley.edu/about/what-is-data-science/)\n",
    "2. [Data Science - Edureka](https://www.edureka.co/blog/what-is-data-science/)\n",
    "3. [Data Scientist - University of Wisconsin](https://datasciencedegree.wisconsin.edu/data-science/what-do-data-scientists-do/)\n",
    "\n",
    "If you are new to statistics, then please review the links below:\n",
    "\n",
    "* [OpenIntro Statistics - Free Textbook](https://www.openintro.org/stat/textbook.php?stat_book=os)\n",
    "* [Advanced HS Statistics - Free Textbook](https://www.openintro.org/stat/textbook.php?stat_book=aps)\n",
    "\n",
    "If you are new to prediction models or machine learning, then please review the links below:\n",
    "\n",
    "* [Microsoft Professional Program - Data Analysis](https://academy.microsoft.com/en-us/professional-program/tracks/data-analysis/)\n",
    "* [Microsoft Professional Program - Data Science](https://academy.microsoft.com/en-us/professional-program/tracks/data-science/)\n",
    "\n",
    "Please run code cells below with the \"run\" button located in the top menu. Cells will show the following:\n",
    "\n",
    "* How to create and plot a linear regression model\n",
    "* How to create and plot a linear regression prediction model"
   ]
  },
  {
   "cell_type": "code",
   "execution_count": 8,
   "metadata": {},
   "outputs": [
    {
     "name": "stdout",
     "output_type": "stream",
     "text": [
      "*** linear regression results ***\n",
      "slope of total and labor cost = nan\n",
      "y-int of total and labor cost = nan\n",
      "r-squared value of total and labor cost = nan\n"
     ]
    },
    {
     "data": {
      "text/plain": [
       "<matplotlib.axes._subplots.AxesSubplot at 0x158404cba90>"
      ]
     },
     "execution_count": 8,
     "metadata": {},
     "output_type": "execute_result"
    },
    {
     "data": {
      "image/png": "[encoded data removed]",
      "text/plain": [
       "<Figure size 1152x864 with 1 Axes>"
      ]
     },
     "metadata": {},
     "output_type": "display_data"
    }
   ],
   "source": [
    "# 4A - Statistical functions with linear regresion\n",
    "\n",
    "# Linear regression of Annual_VHD_at_35mph on Incidents_Per_Million_VMT\n",
    "\n",
    "x = df['Incidents_Per_Million_VMT']\n",
    "y = df['Annual_VHD_at_35mph']\n",
    "\n",
    "slope, intercept, r_value, p_value, std_err = stats.linregress(x,y)\n",
    "\n",
    "print(\"*** linear regression results ***\")\n",
    "print(\"slope of total and labor cost =\", round(slope, 4))\n",
    "print(\"y-int of total and labor cost =\", round(intercept, 4))\n",
    "print(\"r-squared value of total and labor cost =\", round(r_value**2, 4))\n",
    "\n",
    "# Linear regression plot\n",
    "plt.figure(figsize=(16, 12))\n",
    "sns.regplot(x=x, y=y, data=df)"
   ]
  },
  {
   "cell_type": "code",
   "execution_count": 9,
   "metadata": {},
   "outputs": [
    {
     "ename": "ValueError",
     "evalue": "Input contains NaN, infinity or a value too large for dtype('float64').",
     "output_type": "error",
     "traceback": [
      "\u001b[1;31m---------------------------------------------------------------------------\u001b[0m",
      "\u001b[1;31mValueError\u001b[0m                                Traceback (most recent call last)",
      "\u001b[1;32m<ipython-input-9-adea8728258d>\u001b[0m in \u001b[0;36m<module>\u001b[1;34m()\u001b[0m\n\u001b[0;32m     16\u001b[0m \u001b[1;31m# Create prediction model and fit data to model\u001b[0m\u001b[1;33m\u001b[0m\u001b[1;33m\u001b[0m\u001b[0m\n\u001b[0;32m     17\u001b[0m \u001b[0mregressor\u001b[0m \u001b[1;33m=\u001b[0m \u001b[0mLinearRegression\u001b[0m\u001b[1;33m(\u001b[0m\u001b[1;33m)\u001b[0m\u001b[1;33m\u001b[0m\u001b[0m\n\u001b[1;32m---> 18\u001b[1;33m \u001b[0mregressor\u001b[0m\u001b[1;33m.\u001b[0m\u001b[0mfit\u001b[0m\u001b[1;33m(\u001b[0m\u001b[0mX_train\u001b[0m\u001b[1;33m,\u001b[0m \u001b[0my_train\u001b[0m\u001b[1;33m)\u001b[0m\u001b[1;33m\u001b[0m\u001b[0m\n\u001b[0m\u001b[0;32m     19\u001b[0m \u001b[1;33m\u001b[0m\u001b[0m\n\u001b[0;32m     20\u001b[0m \u001b[1;31m# Output the intercept/coefficient\u001b[0m\u001b[1;33m\u001b[0m\u001b[1;33m\u001b[0m\u001b[0m\n",
      "\u001b[1;32m~\\Anaconda3\\lib\\site-packages\\sklearn\\linear_model\\base.py\u001b[0m in \u001b[0;36mfit\u001b[1;34m(self, X, y, sample_weight)\u001b[0m\n\u001b[0;32m    480\u001b[0m         \u001b[0mn_jobs_\u001b[0m \u001b[1;33m=\u001b[0m \u001b[0mself\u001b[0m\u001b[1;33m.\u001b[0m\u001b[0mn_jobs\u001b[0m\u001b[1;33m\u001b[0m\u001b[0m\n\u001b[0;32m    481\u001b[0m         X, y = check_X_y(X, y, accept_sparse=['csr', 'csc', 'coo'],\n\u001b[1;32m--> 482\u001b[1;33m                          y_numeric=True, multi_output=True)\n\u001b[0m\u001b[0;32m    483\u001b[0m \u001b[1;33m\u001b[0m\u001b[0m\n\u001b[0;32m    484\u001b[0m         \u001b[1;32mif\u001b[0m \u001b[0msample_weight\u001b[0m \u001b[1;32mis\u001b[0m \u001b[1;32mnot\u001b[0m \u001b[1;32mNone\u001b[0m \u001b[1;32mand\u001b[0m \u001b[0mnp\u001b[0m\u001b[1;33m.\u001b[0m\u001b[0matleast_1d\u001b[0m\u001b[1;33m(\u001b[0m\u001b[0msample_weight\u001b[0m\u001b[1;33m)\u001b[0m\u001b[1;33m.\u001b[0m\u001b[0mndim\u001b[0m \u001b[1;33m>\u001b[0m \u001b[1;36m1\u001b[0m\u001b[1;33m:\u001b[0m\u001b[1;33m\u001b[0m\u001b[0m\n",
      "\u001b[1;32m~\\Anaconda3\\lib\\site-packages\\sklearn\\utils\\validation.py\u001b[0m in \u001b[0;36mcheck_X_y\u001b[1;34m(X, y, accept_sparse, dtype, order, copy, force_all_finite, ensure_2d, allow_nd, multi_output, ensure_min_samples, ensure_min_features, y_numeric, warn_on_dtype, estimator)\u001b[0m\n\u001b[0;32m    571\u001b[0m     X = check_array(X, accept_sparse, dtype, order, copy, force_all_finite,\n\u001b[0;32m    572\u001b[0m                     \u001b[0mensure_2d\u001b[0m\u001b[1;33m,\u001b[0m \u001b[0mallow_nd\u001b[0m\u001b[1;33m,\u001b[0m \u001b[0mensure_min_samples\u001b[0m\u001b[1;33m,\u001b[0m\u001b[1;33m\u001b[0m\u001b[0m\n\u001b[1;32m--> 573\u001b[1;33m                     ensure_min_features, warn_on_dtype, estimator)\n\u001b[0m\u001b[0;32m    574\u001b[0m     \u001b[1;32mif\u001b[0m \u001b[0mmulti_output\u001b[0m\u001b[1;33m:\u001b[0m\u001b[1;33m\u001b[0m\u001b[0m\n\u001b[0;32m    575\u001b[0m         y = check_array(y, 'csr', force_all_finite=True, ensure_2d=False,\n",
      "\u001b[1;32m~\\Anaconda3\\lib\\site-packages\\sklearn\\utils\\validation.py\u001b[0m in \u001b[0;36mcheck_array\u001b[1;34m(array, accept_sparse, dtype, order, copy, force_all_finite, ensure_2d, allow_nd, ensure_min_samples, ensure_min_features, warn_on_dtype, estimator)\u001b[0m\n\u001b[0;32m    451\u001b[0m                              % (array.ndim, estimator_name))\n\u001b[0;32m    452\u001b[0m         \u001b[1;32mif\u001b[0m \u001b[0mforce_all_finite\u001b[0m\u001b[1;33m:\u001b[0m\u001b[1;33m\u001b[0m\u001b[0m\n\u001b[1;32m--> 453\u001b[1;33m             \u001b[0m_assert_all_finite\u001b[0m\u001b[1;33m(\u001b[0m\u001b[0marray\u001b[0m\u001b[1;33m)\u001b[0m\u001b[1;33m\u001b[0m\u001b[0m\n\u001b[0m\u001b[0;32m    454\u001b[0m \u001b[1;33m\u001b[0m\u001b[0m\n\u001b[0;32m    455\u001b[0m     \u001b[0mshape_repr\u001b[0m \u001b[1;33m=\u001b[0m \u001b[0m_shape_repr\u001b[0m\u001b[1;33m(\u001b[0m\u001b[0marray\u001b[0m\u001b[1;33m.\u001b[0m\u001b[0mshape\u001b[0m\u001b[1;33m)\u001b[0m\u001b[1;33m\u001b[0m\u001b[0m\n",
      "\u001b[1;32m~\\Anaconda3\\lib\\site-packages\\sklearn\\utils\\validation.py\u001b[0m in \u001b[0;36m_assert_all_finite\u001b[1;34m(X)\u001b[0m\n\u001b[0;32m     42\u001b[0m             and not np.isfinite(X).all()):\n\u001b[0;32m     43\u001b[0m         raise ValueError(\"Input contains NaN, infinity\"\n\u001b[1;32m---> 44\u001b[1;33m                          \" or a value too large for %r.\" % X.dtype)\n\u001b[0m\u001b[0;32m     45\u001b[0m \u001b[1;33m\u001b[0m\u001b[0m\n\u001b[0;32m     46\u001b[0m \u001b[1;33m\u001b[0m\u001b[0m\n",
      "\u001b[1;31mValueError\u001b[0m: Input contains NaN, infinity or a value too large for dtype('float64')."
     ]
    }
   ],
   "source": [
    "# 4B - Prediction model with linear regresion:\n",
    "# https://towardsdatascience.com/a-beginners-guide-to-linear-regression-in-python-with-scikit-learn-83a8f7ae2b4f\n",
    "\n",
    "# Modules for prediction model\n",
    "from sklearn.model_selection import train_test_split\n",
    "from sklearn.linear_model import LinearRegression\n",
    "from sklearn import metrics\n",
    "\n",
    "# Reshape cost columns as predictor variables\n",
    "X = df['Incidents_Per_Million_VMT'].values.reshape(-1,1)\n",
    "y = df['Annual_VHD_at_35mph'].values.reshape(-1,1)\n",
    "\n",
    "# Split data into training and test datasets\n",
    "X_train, X_test, y_train, y_test = train_test_split(X, y, test_size=0.2, random_state=0)\n",
    "\n",
    "# Create prediction model and fit data to model\n",
    "regressor = LinearRegression()\n",
    "regressor.fit(X_train, y_train)\n",
    "\n",
    "# Output the intercept/coefficient\n",
    "    # note our coefficients will be different from stats.linregress(), as here we fit on a training *subset* of data\n",
    "print('*** Intercept and Coefficient Values ***')\n",
    "print('')\n",
    "print('Intercept Value (Prediction Model) =', regressor.intercept_)\n",
    "print('')\n",
    "print('Coefficient Value (Prediction Model) =', regressor.coef_)\n",
    "print('')\n",
    "\n",
    "# Predict total cost with linear regresion\n",
    "y_pred = regressor.predict(X_test)\n",
    "\n",
    "# Output error metrics\n",
    "print('*** Error Metrics ***')\n",
    "print('')\n",
    "print('Mean Absolute Error =', metrics.mean_absolute_error(y_test, y_pred))\n",
    "print('')\n",
    "print('Mean Squared Error =', metrics.mean_squared_error(y_test, y_pred))\n",
    "print('')\n",
    "print('Root Mean Squared Error =', np.sqrt(metrics.mean_squared_error(y_test, y_pred)))\n",
    "print('')\n",
    "\n",
    "# Output results\n",
    "df_results = pd.DataFrame(\n",
    "  {'Actual Values': y_test.flatten(), 'Predicted Values': y_pred.flatten()}\n",
    ")\n",
    "df_results"
   ]
  },
  {
   "cell_type": "code",
   "execution_count": null,
   "metadata": {},
   "outputs": [],
   "source": [
    "# 4C - Prediction model with linear regresion:\n",
    "# https://towardsdatascience.com/a-beginners-guide-to-linear-regression-in-python-with-scikit-learn-83a8f7ae2b4f\n",
    "\n",
    "# Plot a randomly sampled 25 values\n",
    "df_25 = df_results.sample(25)\n",
    "df_25.plot(kind='bar',figsize=(16,10))\n",
    "\n",
    "# Create bar plot of actual and predicted values\n",
    "plt.grid(which='major', linestyle='-', linewidth='0.5', color='green')\n",
    "plt.grid(which='minor', linestyle=':', linewidth='0.5', color='black')\n",
    "plt.show()"
   ]
  },
  {
   "cell_type": "markdown",
   "metadata": {},
   "source": [
    "## Postscript: It's Okay to Experiment!\n",
    "In Notebook you can always add new cells, or copy existing cells for tweaking -- want to try something new? Just create or copy/paste a new cell, experiment, tweak, break, fix, and edit as needed. Your original data is safe (e.g. in your CSV file, remember we first imported it into Python/Notebook), and you can always delete cells or start over by restarting the Python/Notebook kernel via the Kernel menu (warning: this will clear whatever you've computed in Notebook for this session, but it won't affect your Notebook code or the original data in your CSV file).\n",
    "\n",
    "## Postscript: Searching for Help Online\n",
    "\n",
    "Notebook, Python, Pandas, Numpy, Matplotlib, Seaborn... all of these have extensive resources online and Google is your friend.\n",
    "\n",
    "An important tip for finding answers online is to use the right tech keyword with your question.\n",
    "\n",
    "For example, you might ask *How do I sort my dataframe?* For this question, a good search would be \"pandas sort dataframe\". Here \"pandas\" is the 'right' tech keyword, whereas \"notebook sort dataframe\" may not return the best results.\n",
    "\n",
    "The 'right' tech keyword is often the module you're working with, so if you're doing things with dataframes, it's pandas, if you're plotting, it's matplotlib or seaborn, etc.\n"
   ]
  }
 ],
 "metadata": {
  "kernelspec": {
   "display_name": "Python 3",
   "language": "python",
   "name": "python3"
  },
  "language_info": {
   "codemirror_mode": {
    "name": "ipython",
    "version": 3
   },
   "file_extension": ".py",
   "mimetype": "text/x-python",
   "name": "python",
   "nbconvert_exporter": "python",
   "pygments_lexer": "ipython3",
   "version": "3.6.5"
  }
 },
 "nbformat": 4,
 "nbformat_minor": 2
}
